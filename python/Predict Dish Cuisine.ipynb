{
 "cells": [
  {
   "cell_type": "markdown",
   "metadata": {},
   "source": [
    "# Kaggle Yummly\n",
    "\n",
    "[What's Cooking](https://www.kaggle.com/c/whats-cooking)\n",
    "\n",
    "Use graphlab to predict the cuisine type"
   ]
  },
  {
   "cell_type": "code",
   "execution_count": 1,
   "metadata": {
    "collapsed": false
   },
   "outputs": [
    {
     "name": "stderr",
     "output_type": "stream",
     "text": [
      "[WARNING] This Python session does not appear to be running in an interactive IPython Notebook. Use of the 'ipynb' target may behave unexpectedly or result in errors.\n"
     ]
    }
   ],
   "source": [
    "## import the libraries\n",
    "import json\n",
    "import graphlab as gl\n",
    "import pandas as pd\n",
    "\n",
    "## options\n",
    "gl.canvas.set_target('ipynb') # use IPython Notebook output for GraphLab Canvas"
   ]
  },
  {
   "cell_type": "code",
   "execution_count": 14,
   "metadata": {
    "collapsed": true
   },
   "outputs": [],
   "source": [
    "## load the training json\n",
    "with open(\"../data/train.json\") as data_file:\n",
    "    train_json = json.load(data_file)\n",
    "    \n",
    "## load the test json\n",
    "with open(\"../data/test.json\") as data_file:\n",
    "    test_json = json.load(data_file)"
   ]
  },
  {
   "cell_type": "code",
   "execution_count": 37,
   "metadata": {
    "collapsed": false
   },
   "outputs": [],
   "source": [
    "## training data elements\n",
    "train_id = []\n",
    "train_cuisine = []\n",
    "train_ingredients = []\n",
    "for dish in train_json:\n",
    "    train_id.append(dish['id'])\n",
    "    train_cuisine.append(dish['cuisine'])\n",
    "    # build a dictionary\n",
    "    ing_list = dish['ingredients']\n",
    "    counts = [1]*len(ing_list)\n",
    "    train_ingredients.append(dict(zip(ing_list, counts)))\n",
    "    \n",
    "\n",
    "## test data elements\n",
    "test_id = []\n",
    "test_ingredients = []\n",
    "for dish in test_json:\n",
    "    test_id.append(dish['id'])\n",
    "    # build a dictionary\n",
    "    ing_list = dish['ingredients']\n",
    "    counts = [1]*len(ing_list)\n",
    "    test_ingredients.append(dict(zip(ing_list, counts)))\n",
    "    "
   ]
  },
  {
   "cell_type": "code",
   "execution_count": 64,
   "metadata": {
    "collapsed": false
   },
   "outputs": [],
   "source": [
    "## use the elements to to build sframes that include the ingredients as a dict\n",
    "train_sf = gl.SFrame({'id':train_id, 'cuisine':train_cuisine, 'ingredients':train_ingredients})\n",
    "test_sf = gl.SFrame({'id':test_id, 'ingredients':test_ingredients})"
   ]
  },
  {
   "cell_type": "markdown",
   "metadata": {},
   "source": [
    "## Quick look at the data"
   ]
  },
  {
   "cell_type": "code",
   "execution_count": 45,
   "metadata": {
    "collapsed": false
   },
   "outputs": [
    {
     "name": "stdout",
     "output_type": "stream",
     "text": [
      "<bound method SFrame.column_types of Columns:\n",
      "\tcuisine\tstr\n",
      "\tid\tint\n",
      "\tingredients\tdict\n",
      "\n",
      "Rows: 39774\n",
      "\n",
      "Data:\n",
      "+-------------+-------+-------------------------------+\n",
      "|   cuisine   |   id  |          ingredients          |\n",
      "+-------------+-------+-------------------------------+\n",
      "|    greek    | 10259 | {'pepper': 1, 'seasoning':... |\n",
      "| southern_us | 25693 | {'vegetable oil': 1, 'plai... |\n",
      "|   filipino  | 20130 | {'garlic powder': 1, 'butt... |\n",
      "|    indian   | 22213 | {'water': 1, 'vegetable oi... |\n",
      "|    indian   | 13162 | {'butter': 1, 'garlic past... |\n",
      "|   jamaican  |  6602 | {'butter': 1, 'plain flour... |\n",
      "|   spanish   | 42779 | {'olive oil': 1, 'chorizo ... |\n",
      "|   italian   |  3735 | {'olive oil': 1, 'almond e... |\n",
      "|   mexican   | 16903 | {'olive oil': 1, 'pork': 1... |\n",
      "|   italian   | 12734 | {'chopped tomatoes': 1, 'f... |\n",
      "+-------------+-------+-------------------------------+\n",
      "[39774 rows x 3 columns]\n",
      "Note: Only the head of the SFrame is printed.\n",
      "You can use print_rows(num_rows=m, num_columns=n) to print more rows and columns.>\n"
     ]
    }
   ],
   "source": [
    "train_sf.column_names"
   ]
  },
  {
   "cell_type": "code",
   "execution_count": 46,
   "metadata": {
    "collapsed": false
   },
   "outputs": [
    {
     "data": {
      "text/plain": [
       "<bound method SFrame.column_names of Columns:\n",
       "\tid\tint\n",
       "\tingredients\tdict\n",
       "\n",
       "Rows: 9944\n",
       "\n",
       "Data:\n",
       "+-------+-------------------------------+\n",
       "|   id  |          ingredients          |\n",
       "+-------+-------------------------------+\n",
       "| 18009 | {'eggs': 1, 'milk': 1, 'ba... |\n",
       "| 28583 | {'cream of tartar': 1, 'co... |\n",
       "| 41580 | {'olive oil': 1, 'fennel b... |\n",
       "| 29752 | {'vegetable oil': 1, 'garl... |\n",
       "| 35687 | {'sausage casings': 1, 'pa... |\n",
       "| 38527 | {'corn starch': 1, 'peach ... |\n",
       "| 19666 | {'orange': 1, 'grape juice... |\n",
       "| 41217 | {'vegetable oil': 1, 'whit... |\n",
       "| 28753 | {'vegetable oil': 1, 'taco... |\n",
       "| 22659 | {'butter': 1, 'self raisin... |\n",
       "+-------+-------------------------------+\n",
       "[9944 rows x 2 columns]\n",
       "Note: Only the head of the SFrame is printed.\n",
       "You can use print_rows(num_rows=m, num_columns=n) to print more rows and columns.>"
      ]
     },
     "execution_count": 46,
     "metadata": {},
     "output_type": "execute_result"
    }
   ],
   "source": [
    "test_sf.column_names"
   ]
  },
  {
   "cell_type": "markdown",
   "metadata": {
    "collapsed": true
   },
   "source": [
    "## Model Building\n",
    "\n",
    "My first graphlab-built model.  [Documentation can be found here](https://dato.com/products/create/docs/graphlab.toolkits.classifier.html)"
   ]
  },
  {
   "cell_type": "code",
   "execution_count": 47,
   "metadata": {
    "collapsed": false
   },
   "outputs": [
    {
     "name": "stdout",
     "output_type": "stream",
     "text": [
      "PROGRESS: Creating a validation set from 5 percent of training data. This may take a while.\n",
      "          You can set ``validation_set=None`` to disable validation tracking.\n",
      "\n",
      "PROGRESS: The following methods are available for this type of problem.\n",
      "PROGRESS: BoostedTreesClassifier, RandomForestClassifier, LogisticClassifier\n",
      "PROGRESS: The returned model will be chosen according to validation accuracy.\n",
      "PROGRESS: Boosted trees classifier:\n",
      "PROGRESS: --------------------------------------------------------\n",
      "PROGRESS: Number of examples          : 37736\n",
      "PROGRESS: Number of classes           : 20\n",
      "PROGRESS: Number of feature columns   : 1\n",
      "PROGRESS: Number of unpacked features : 6631\n",
      "PROGRESS: Starting Boosted Trees\n",
      "PROGRESS: --------------------------------------------------------\n",
      "PROGRESS:   Iter      Accuracy          Elapsed time\n",
      "PROGRESS:         (training) (validation)\n",
      "PROGRESS:      0   5.612e-01   5.368e-01        1.02s\n",
      "PROGRESS:      1   6.335e-01   6.099e-01        2.07s\n",
      "PROGRESS:      2   6.588e-01   6.276e-01        3.13s\n",
      "PROGRESS:      3   6.691e-01   6.330e-01        4.18s\n",
      "PROGRESS:      4   6.772e-01   6.443e-01        5.21s\n",
      "PROGRESS:      5   6.886e-01   6.457e-01        6.27s\n",
      "PROGRESS:      6   6.961e-01   6.497e-01        7.39s\n",
      "PROGRESS:      7   7.048e-01   6.565e-01        8.56s\n",
      "PROGRESS:      8   7.106e-01   6.590e-01        9.65s\n",
      "PROGRESS:      9   7.165e-01   6.605e-01       10.67s\n",
      "PROGRESS: Random forest classifier:\n",
      "PROGRESS: --------------------------------------------------------\n",
      "PROGRESS: Number of examples          : 37736\n",
      "PROGRESS: Number of classes           : 20\n",
      "PROGRESS: Number of feature columns   : 1\n",
      "PROGRESS: Number of unpacked features : 6631\n",
      "PROGRESS: Starting Boosted Trees\n",
      "PROGRESS: --------------------------------------------------------\n",
      "PROGRESS:   Iter      Accuracy          Elapsed time\n",
      "PROGRESS:         (training) (validation)\n",
      "PROGRESS:      0   5.596e-01   5.245e-01        1.10s\n",
      "PROGRESS:      1   5.923e-01   5.658e-01        2.09s\n",
      "PROGRESS:      2   5.977e-01   5.726e-01        3.17s\n",
      "PROGRESS:      3   6.021e-01   5.819e-01        4.08s\n",
      "PROGRESS:      4   6.074e-01   5.888e-01        4.96s\n",
      "PROGRESS:      5   6.070e-01   5.908e-01        5.88s\n",
      "PROGRESS:      6   6.079e-01   5.844e-01        6.81s\n",
      "PROGRESS:      7   6.091e-01   5.859e-01        7.78s\n",
      "PROGRESS:      8   6.108e-01   5.878e-01        8.69s\n",
      "PROGRESS:      9   6.113e-01   5.922e-01        9.57s\n",
      "PROGRESS: Logistic regression:\n",
      "PROGRESS: --------------------------------------------------------\n",
      "PROGRESS: Number of examples          : 37736\n",
      "PROGRESS: Number of classes           : 20\n",
      "PROGRESS: Number of feature columns   : 1\n",
      "PROGRESS: Number of unpacked features : 6631\n",
      "PROGRESS: Number of coefficients    : 126008\n",
      "PROGRESS: Starting L-BFGS\n",
      "PROGRESS: --------------------------------------------------------\n",
      "PROGRESS: +-----------+----------+-----------+--------------+-------------------+---------------------+\n",
      "PROGRESS: | Iteration | Passes   | Step size | Elapsed Time | Training-accuracy | Validation-accuracy |\n",
      "PROGRESS: +-----------+----------+-----------+--------------+-------------------+---------------------+\n",
      "PROGRESS: | 1         | 3        | 0.000026  | 1.299920     | 0.640317          | 0.621688            |\n",
      "PROGRESS: | 2         | 5        | 1.000000  | 4.974429     | 0.769345          | 0.724730            |\n",
      "PROGRESS: | 3         | 6        | 1.000000  | 8.659590     | 0.819589          | 0.750736            |\n",
      "PROGRESS: | 4         | 7        | 1.000000  | 12.310670    | 0.847440          | 0.757115            |\n",
      "PROGRESS: | 5         | 8        | 1.000000  | 15.533520    | 0.869727          | 0.765947            |\n",
      "PROGRESS: | 6         | 9        | 1.000000  | 19.123577    | 0.887084          | 0.761040            |\n",
      "PROGRESS: | 7         | 10       | 1.000000  | 22.827033    | 0.892119          | 0.745829            |\n",
      "PROGRESS: | 8         | 11       | 1.000000  | 26.424283    | 0.906535          | 0.744848            |\n",
      "PROGRESS: | 9         | 12       | 1.000000  | 29.997258    | 0.913054          | 0.743376            |\n",
      "PROGRESS: | 10        | 13       | 1.000000  | 33.699444    | 0.918380          | 0.743867            |\n",
      "PROGRESS: +-----------+----------+-----------+--------------+-------------------+---------------------+\n",
      "PROGRESS: Model selection based on validation accuracy:\n",
      "PROGRESS: ---------------------------------------------\n",
      "PROGRESS: BoostedTreesClassifier          : 0.660451422964\n",
      "PROGRESS: RandomForestClassifier          : 0.592247301276\n",
      "PROGRESS: LogisticClassifier              : 0.743867\n",
      "PROGRESS: ---------------------------------------------\n",
      "PROGRESS: Selecting LogisticClassifier based on validation set performance.\n"
     ]
    }
   ],
   "source": [
    "## automatic model selection, no hold-out sample just yet\n",
    "model_1 = gl.classifier.create(train_sf, target = \"cuisine\", features = [\"ingredients\"])"
   ]
  },
  {
   "cell_type": "code",
   "execution_count": 50,
   "metadata": {
    "collapsed": false
   },
   "outputs": [
    {
     "name": "stdout",
     "output_type": "stream",
     "text": [
      "Class                         : LogisticClassifier\n",
      "\n",
      "Schema\n",
      "------\n",
      "Number of coefficients        : 126008\n",
      "Number of examples            : 37736\n",
      "Number of classes             : 20\n",
      "Number of feature columns     : 1\n",
      "Number of unpacked features   : 6631\n",
      "\n",
      "Hyperparameters\n",
      "---------------\n",
      "L1 penalty                    : 0\n",
      "L2 penalty                    : 0.01\n",
      "\n",
      "Training Summary\n",
      "----------------\n",
      "Solver                        : auto\n",
      "Solver iterations             : 10\n",
      "Solver status                 : TERMINATED: Iteration limit reached.\n",
      "Training time (sec)           : 37.1009\n",
      "\n",
      "Settings\n",
      "--------\n",
      "Log-likelihood                : 10447.5108\n",
      "\n",
      "Highest Positive Coefficients\n",
      "-----------------------------\n",
      "ingredients[blueberri preserv]: 30.2263\n",
      "ingredients[strawberry compote]: 21.9533\n",
      "ingredients[brown beech mushrooms]: 21.1545\n",
      "ingredients[instant tea powder]: 21.0494\n",
      "ingredients[creme de cacao]   : 20.0717\n",
      "\n",
      "Lowest Negative Coefficients\n",
      "----------------------------\n",
      "ingredients[instant tea powder]: -18.3682\n",
      "ingredients[paprika paste]    : -16.9757\n",
      "ingredients[creme de cacao]   : -15.9191\n",
      "ingredients[pork hocks]       : -15.6543\n",
      "ingredients[licor 43]         : -15.3942\n",
      "\n"
     ]
    }
   ],
   "source": [
    "## summarize the model\n",
    "model_1.summary()"
   ]
  },
  {
   "cell_type": "code",
   "execution_count": 51,
   "metadata": {
    "collapsed": false
   },
   "outputs": [],
   "source": [
    "## predict on the test set\n",
    "test_preds = model_1.predict?"
   ]
  },
  {
   "cell_type": "code",
   "execution_count": 53,
   "metadata": {
    "collapsed": false
   },
   "outputs": [
    {
     "data": {
      "text/plain": [
       "dtype: str\n",
       "Rows: 9944\n",
       "['british', 'southern_us', 'italian', 'cajun_creole', 'italian', 'southern_us', 'spanish', 'chinese', 'mexican', 'irish', 'italian', 'greek', 'indian', 'italian', 'british', 'italian', 'mexican', 'southern_us', 'mexican', 'southern_us', 'korean', 'indian', 'moroccan', 'vietnamese', 'italian', 'southern_us', 'vietnamese', 'korean', 'italian', 'cajun_creole', 'mexican', 'thai', 'southern_us', 'japanese', 'chinese', 'mexican', 'russian', 'indian', 'indian', 'cajun_creole', 'cajun_creole', 'chinese', 'french', 'mexican', 'italian', 'italian', 'spanish', 'indian', 'vietnamese', 'chinese', 'italian', 'thai', 'indian', 'filipino', 'italian', 'chinese', 'italian', 'japanese', 'chinese', 'jamaican', 'french', 'mexican', 'filipino', 'korean', 'mexican', 'greek', 'filipino', 'thai', 'italian', 'italian', 'french', 'indian', 'thai', 'thai', 'indian', 'japanese', 'indian', 'mexican', 'southern_us', 'greek', 'chinese', 'spanish', 'italian', 'korean', 'british', 'southern_us', 'greek', 'japanese', 'cajun_creole', 'chinese', 'indian', 'italian', 'mexican', 'chinese', 'moroccan', 'southern_us', 'french', 'greek', 'italian', 'indian', ... ]"
      ]
     },
     "execution_count": 53,
     "metadata": {},
     "output_type": "execute_result"
    }
   ],
   "source": [
    "test_preds = model_1.predict(test_sf)\n",
    "test_preds"
   ]
  },
  {
   "cell_type": "code",
   "execution_count": 65,
   "metadata": {
    "collapsed": true
   },
   "outputs": [],
   "source": [
    "## add to the SFrame\n",
    "test_sf['cuisine'] = test_preds"
   ]
  },
  {
   "cell_type": "code",
   "execution_count": 66,
   "metadata": {
    "collapsed": false
   },
   "outputs": [
    {
     "data": {
      "text/html": [
       "<div style=\"max-height:1000px;max-width:1500px;overflow:auto;\"><table frame=\"box\" rules=\"cols\">\n",
       "    <tr>\n",
       "        <th style=\"padding-left: 1em; padding-right: 1em; text-align: center\">id</th>\n",
       "        <th style=\"padding-left: 1em; padding-right: 1em; text-align: center\">ingredients</th>\n",
       "        <th style=\"padding-left: 1em; padding-right: 1em; text-align: center\">cuisine</th>\n",
       "    </tr>\n",
       "    <tr>\n",
       "        <td style=\"padding-left: 1em; padding-right: 1em; text-align: center; vertical-align: top\">18009</td>\n",
       "        <td style=\"padding-left: 1em; padding-right: 1em; text-align: center; vertical-align: top\">{'eggs': 1, 'milk': 1,<br>'baking powder': 1, ' ...</td>\n",
       "        <td style=\"padding-left: 1em; padding-right: 1em; text-align: center; vertical-align: top\">british</td>\n",
       "    </tr>\n",
       "    <tr>\n",
       "        <td style=\"padding-left: 1em; padding-right: 1em; text-align: center; vertical-align: top\">28583</td>\n",
       "        <td style=\"padding-left: 1em; padding-right: 1em; text-align: center; vertical-align: top\">{'cream of tartar': 1,<br>'corn starch': 1, ...</td>\n",
       "        <td style=\"padding-left: 1em; padding-right: 1em; text-align: center; vertical-align: top\">southern_us</td>\n",
       "    </tr>\n",
       "    <tr>\n",
       "        <td style=\"padding-left: 1em; padding-right: 1em; text-align: center; vertical-align: top\">41580</td>\n",
       "        <td style=\"padding-left: 1em; padding-right: 1em; text-align: center; vertical-align: top\">{'olive oil': 1, 'fennel<br>bulb': 1, 'sausage ...</td>\n",
       "        <td style=\"padding-left: 1em; padding-right: 1em; text-align: center; vertical-align: top\">italian</td>\n",
       "    </tr>\n",
       "    <tr>\n",
       "        <td style=\"padding-left: 1em; padding-right: 1em; text-align: center; vertical-align: top\">29752</td>\n",
       "        <td style=\"padding-left: 1em; padding-right: 1em; text-align: center; vertical-align: top\">{'vegetable oil': 1,<br>'garlic cloves': 1, ' ...</td>\n",
       "        <td style=\"padding-left: 1em; padding-right: 1em; text-align: center; vertical-align: top\">cajun_creole</td>\n",
       "    </tr>\n",
       "    <tr>\n",
       "        <td style=\"padding-left: 1em; padding-right: 1em; text-align: center; vertical-align: top\">35687</td>\n",
       "        <td style=\"padding-left: 1em; padding-right: 1em; text-align: center; vertical-align: top\">{'sausage casings': 1,<br>'parmigiano reggiano ...</td>\n",
       "        <td style=\"padding-left: 1em; padding-right: 1em; text-align: center; vertical-align: top\">italian</td>\n",
       "    </tr>\n",
       "    <tr>\n",
       "        <td style=\"padding-left: 1em; padding-right: 1em; text-align: center; vertical-align: top\">38527</td>\n",
       "        <td style=\"padding-left: 1em; padding-right: 1em; text-align: center; vertical-align: top\">{'corn starch': 1, 'peach<br>slices': 1, 'baking ...</td>\n",
       "        <td style=\"padding-left: 1em; padding-right: 1em; text-align: center; vertical-align: top\">southern_us</td>\n",
       "    </tr>\n",
       "    <tr>\n",
       "        <td style=\"padding-left: 1em; padding-right: 1em; text-align: center; vertical-align: top\">19666</td>\n",
       "        <td style=\"padding-left: 1em; padding-right: 1em; text-align: center; vertical-align: top\">{'orange': 1, 'grape<br>juice': 1, 'white ...</td>\n",
       "        <td style=\"padding-left: 1em; padding-right: 1em; text-align: center; vertical-align: top\">spanish</td>\n",
       "    </tr>\n",
       "    <tr>\n",
       "        <td style=\"padding-left: 1em; padding-right: 1em; text-align: center; vertical-align: top\">41217</td>\n",
       "        <td style=\"padding-left: 1em; padding-right: 1em; text-align: center; vertical-align: top\">{'vegetable oil': 1,<br>'white pepper': 1, 'w ...</td>\n",
       "        <td style=\"padding-left: 1em; padding-right: 1em; text-align: center; vertical-align: top\">chinese</td>\n",
       "    </tr>\n",
       "    <tr>\n",
       "        <td style=\"padding-left: 1em; padding-right: 1em; text-align: center; vertical-align: top\">28753</td>\n",
       "        <td style=\"padding-left: 1em; padding-right: 1em; text-align: center; vertical-align: top\">{'vegetable oil': 1,<br>'taco seasoning mix': 1, ...</td>\n",
       "        <td style=\"padding-left: 1em; padding-right: 1em; text-align: center; vertical-align: top\">mexican</td>\n",
       "    </tr>\n",
       "    <tr>\n",
       "        <td style=\"padding-left: 1em; padding-right: 1em; text-align: center; vertical-align: top\">22659</td>\n",
       "        <td style=\"padding-left: 1em; padding-right: 1em; text-align: center; vertical-align: top\">{'butter': 1, 'self<br>raising flour': 1, ...</td>\n",
       "        <td style=\"padding-left: 1em; padding-right: 1em; text-align: center; vertical-align: top\">irish</td>\n",
       "    </tr>\n",
       "</table>\n",
       "[9944 rows x 3 columns]<br/>Note: Only the head of the SFrame is printed.<br/>You can use print_rows(num_rows=m, num_columns=n) to print more rows and columns.\n",
       "</div>"
      ],
      "text/plain": [
       "Columns:\n",
       "\tid\tint\n",
       "\tingredients\tdict\n",
       "\tcuisine\tstr\n",
       "\n",
       "Rows: 9944\n",
       "\n",
       "Data:\n",
       "+-------+-------------------------------+--------------+\n",
       "|   id  |          ingredients          |   cuisine    |\n",
       "+-------+-------------------------------+--------------+\n",
       "| 18009 | {'eggs': 1, 'milk': 1, 'ba... |   british    |\n",
       "| 28583 | {'cream of tartar': 1, 'co... | southern_us  |\n",
       "| 41580 | {'olive oil': 1, 'fennel b... |   italian    |\n",
       "| 29752 | {'vegetable oil': 1, 'garl... | cajun_creole |\n",
       "| 35687 | {'sausage casings': 1, 'pa... |   italian    |\n",
       "| 38527 | {'corn starch': 1, 'peach ... | southern_us  |\n",
       "| 19666 | {'orange': 1, 'grape juice... |   spanish    |\n",
       "| 41217 | {'vegetable oil': 1, 'whit... |   chinese    |\n",
       "| 28753 | {'vegetable oil': 1, 'taco... |   mexican    |\n",
       "| 22659 | {'butter': 1, 'self raisin... |    irish     |\n",
       "+-------+-------------------------------+--------------+\n",
       "[9944 rows x 3 columns]\n",
       "Note: Only the head of the SFrame is printed.\n",
       "You can use print_rows(num_rows=m, num_columns=n) to print more rows and columns."
      ]
     },
     "execution_count": 66,
     "metadata": {},
     "output_type": "execute_result"
    }
   ],
   "source": [
    "test_sf"
   ]
  },
  {
   "cell_type": "code",
   "execution_count": 67,
   "metadata": {
    "collapsed": false
   },
   "outputs": [
    {
     "data": {
      "text/html": [
       "<div style=\"max-height:1000px;max-width:1500px;overflow:auto;\"><table frame=\"box\" rules=\"cols\">\n",
       "    <tr>\n",
       "        <th style=\"padding-left: 1em; padding-right: 1em; text-align: center\">id</th>\n",
       "        <th style=\"padding-left: 1em; padding-right: 1em; text-align: center\">cuisine</th>\n",
       "    </tr>\n",
       "    <tr>\n",
       "        <td style=\"padding-left: 1em; padding-right: 1em; text-align: center; vertical-align: top\">18009</td>\n",
       "        <td style=\"padding-left: 1em; padding-right: 1em; text-align: center; vertical-align: top\">british</td>\n",
       "    </tr>\n",
       "    <tr>\n",
       "        <td style=\"padding-left: 1em; padding-right: 1em; text-align: center; vertical-align: top\">28583</td>\n",
       "        <td style=\"padding-left: 1em; padding-right: 1em; text-align: center; vertical-align: top\">southern_us</td>\n",
       "    </tr>\n",
       "    <tr>\n",
       "        <td style=\"padding-left: 1em; padding-right: 1em; text-align: center; vertical-align: top\">41580</td>\n",
       "        <td style=\"padding-left: 1em; padding-right: 1em; text-align: center; vertical-align: top\">italian</td>\n",
       "    </tr>\n",
       "    <tr>\n",
       "        <td style=\"padding-left: 1em; padding-right: 1em; text-align: center; vertical-align: top\">29752</td>\n",
       "        <td style=\"padding-left: 1em; padding-right: 1em; text-align: center; vertical-align: top\">cajun_creole</td>\n",
       "    </tr>\n",
       "    <tr>\n",
       "        <td style=\"padding-left: 1em; padding-right: 1em; text-align: center; vertical-align: top\">35687</td>\n",
       "        <td style=\"padding-left: 1em; padding-right: 1em; text-align: center; vertical-align: top\">italian</td>\n",
       "    </tr>\n",
       "    <tr>\n",
       "        <td style=\"padding-left: 1em; padding-right: 1em; text-align: center; vertical-align: top\">38527</td>\n",
       "        <td style=\"padding-left: 1em; padding-right: 1em; text-align: center; vertical-align: top\">southern_us</td>\n",
       "    </tr>\n",
       "    <tr>\n",
       "        <td style=\"padding-left: 1em; padding-right: 1em; text-align: center; vertical-align: top\">19666</td>\n",
       "        <td style=\"padding-left: 1em; padding-right: 1em; text-align: center; vertical-align: top\">spanish</td>\n",
       "    </tr>\n",
       "    <tr>\n",
       "        <td style=\"padding-left: 1em; padding-right: 1em; text-align: center; vertical-align: top\">41217</td>\n",
       "        <td style=\"padding-left: 1em; padding-right: 1em; text-align: center; vertical-align: top\">chinese</td>\n",
       "    </tr>\n",
       "    <tr>\n",
       "        <td style=\"padding-left: 1em; padding-right: 1em; text-align: center; vertical-align: top\">28753</td>\n",
       "        <td style=\"padding-left: 1em; padding-right: 1em; text-align: center; vertical-align: top\">mexican</td>\n",
       "    </tr>\n",
       "    <tr>\n",
       "        <td style=\"padding-left: 1em; padding-right: 1em; text-align: center; vertical-align: top\">22659</td>\n",
       "        <td style=\"padding-left: 1em; padding-right: 1em; text-align: center; vertical-align: top\">irish</td>\n",
       "    </tr>\n",
       "</table>\n",
       "[9944 rows x 2 columns]<br/>Note: Only the head of the SFrame is printed.<br/>You can use print_rows(num_rows=m, num_columns=n) to print more rows and columns.\n",
       "</div>"
      ],
      "text/plain": [
       "Columns:\n",
       "\tid\tint\n",
       "\tcuisine\tstr\n",
       "\n",
       "Rows: 9944\n",
       "\n",
       "Data:\n",
       "+-------+--------------+\n",
       "|   id  |   cuisine    |\n",
       "+-------+--------------+\n",
       "| 18009 |   british    |\n",
       "| 28583 | southern_us  |\n",
       "| 41580 |   italian    |\n",
       "| 29752 | cajun_creole |\n",
       "| 35687 |   italian    |\n",
       "| 38527 | southern_us  |\n",
       "| 19666 |   spanish    |\n",
       "| 41217 |   chinese    |\n",
       "| 28753 |   mexican    |\n",
       "| 22659 |    irish     |\n",
       "+-------+--------------+\n",
       "[9944 rows x 2 columns]\n",
       "Note: Only the head of the SFrame is printed.\n",
       "You can use print_rows(num_rows=m, num_columns=n) to print more rows and columns."
      ]
     },
     "execution_count": 67,
     "metadata": {},
     "output_type": "execute_result"
    }
   ],
   "source": [
    "## drop the ingredients and write to the submission folder\n",
    "test_sf.remove_column('ingredients')"
   ]
  },
  {
   "cell_type": "code",
   "execution_count": 61,
   "metadata": {
    "collapsed": false
   },
   "outputs": [],
   "source": [
    "## write the predictions\n",
    "test_sf.save('../submissions/submission2.csv', format='csv')"
   ]
  },
  {
   "cell_type": "code",
   "execution_count": 62,
   "metadata": {
    "collapsed": false
   },
   "outputs": [
    {
     "name": "stdout",
     "output_type": "stream",
     "text": [
      "id,cuisine\r\n",
      "18009,\"british\"\r\n",
      "28583,\"southern_us\"\r\n",
      "41580,\"italian\"\r\n",
      "29752,\"cajun_creole\"\r\n",
      "35687,\"italian\"\r\n",
      "38527,\"southern_us\"\r\n",
      "19666,\"spanish\"\r\n",
      "41217,\"chinese\"\r\n",
      "28753,\"mexican\"\r\n",
      "cat: stdout: Broken pipe\r\n"
     ]
    }
   ],
   "source": [
    "## look at the file to make sure it looks ok for submission\n",
    "!cat ../submissions/submission2.csv | head -10"
   ]
  },
  {
   "cell_type": "markdown",
   "metadata": {},
   "source": [
    "This submission resulted in a score of __0.74899__."
   ]
  },
  {
   "cell_type": "markdown",
   "metadata": {},
   "source": [
    "### Next Steps\n",
    "\n",
    "-  clean/evaluate the ingredients, as there appear to be data issues with typos and/or no validation\n",
    "-  tune the parameters and/or search across a wider space"
   ]
  },
  {
   "cell_type": "markdown",
   "metadata": {},
   "source": [
    "## Model Version 2\n",
    "\n",
    "My assumption is that ingredients need to be cleaned a bit more.  I could be wrong, but I suspect that there may not be any data validation going into the ingredients.  Let's take a look..."
   ]
  },
  {
   "cell_type": "code",
   "execution_count": 77,
   "metadata": {
    "collapsed": false
   },
   "outputs": [
    {
     "data": {
      "text/plain": [
       "dtype: dict\n",
       "Rows: 10\n",
       "[{'pepper': 1, 'seasoning': 1, 'garbanzo beans': 1, 'grape tomatoes': 1, 'garlic': 1, 'black olives': 1, 'feta cheese crumbles': 1, 'romaine lettuce': 1, 'purple onion': 1}, {'vegetable oil': 1, 'plain flour': 1, 'thyme': 1, 'ground black pepper': 1, 'eggs': 1, 'yellow corn meal': 1, 'green tomatoes': 1, 'ground pepper': 1, 'salt': 1, 'milk': 1, 'tomatoes': 1}, {'garlic powder': 1, 'butter': 1, 'pepper': 1, 'green chilies': 1, 'cooking oil': 1, 'eggs': 1, 'mayonaise': 1, 'soy sauce': 1, 'grilled chicken breasts': 1, 'yellow onion': 1, 'salt': 1, 'chicken livers': 1}, {'water': 1, 'vegetable oil': 1, 'wheat': 1, 'salt': 1}, {'butter': 1, 'garlic paste': 1, 'bay leaf': 1, 'chili powder': 1, 'boneless chicken skinless thigh': 1, 'natural yogurt': 1, 'cornflour': 1, 'milk': 1, 'lemon juice': 1, 'black pepper': 1, 'cayenne pepper': 1, 'water': 1, 'passata': 1, 'oil': 1, 'double cream': 1, 'shallots': 1, 'onions': 1, 'garam masala': 1, 'salt': 1, 'ground cumin': 1}, {'butter': 1, 'plain flour': 1, 'fresh ginger root': 1, 'eggs': 1, 'sugar': 1, 'baking powder': 1, 'powdered sugar': 1, 'ground cinnamon': 1, 'salt': 1, 'milk': 1, 'ground ginger': 1, 'vanilla extract': 1}, {'olive oil': 1, 'chorizo sausage': 1, 'pepper': 1, 'medium shrimp': 1, 'white vinegar': 1, 'jalapeno chilies': 1, 'flat leaf parsley': 1, 'garlic': 1, 'chopped cilantro': 1, 'skirt steak': 1, 'bay leaf': 1, 'sea salt': 1, 'salt': 1}, {'olive oil': 1, 'almond extract': 1, 'vanilla extract': 1, 'flour': 1, 'eggs': 1, 'pistachio nuts': 1, 'sugar': 1, 'baking powder': 1, 'white almond bark': 1, 'dried cranberries': 1}, {'olive oil': 1, 'pork': 1, 'cheddar cheese': 1, 'iceberg lettuce': 1, 'ground black pepper': 1, 'jalapeno chilies': 1, 'corn tortillas': 1, 'poblano peppers': 1, 'chopped cilantro fresh': 1, 'lime': 1, 'salt': 1, 'purple onion': 1, 'fresh pineapple': 1}, {'chopped tomatoes': 1, 'fresh basil': 1, 'extra-virgin olive oil': 1, 'garlic': 1, 'flat leaf parsley': 1, 'kosher salt': 1}]"
      ]
     },
     "execution_count": 77,
     "metadata": {},
     "output_type": "execute_result"
    }
   ],
   "source": [
    "train_sf['ingredients'].head()"
   ]
  },
  {
   "cell_type": "code",
   "execution_count": 90,
   "metadata": {
    "collapsed": false
   },
   "outputs": [],
   "source": [
    "## put all of the ingredients together, training and test, dupes and all\n",
    "ingredients = []\n",
    "\n",
    "## the training ingredients\n",
    "for ing in train_sf['ingredients']:\n",
    "    dish_ings = ing.keys()\n",
    "    for x in dish_ings:\n",
    "        ingredients.append(x)\n",
    "\n",
    "## rebuild because I dropped the column previous, rookie mistake\n",
    "test_sf = gl.SFrame({'id':test_id, 'ingredients':test_ingredients})\n",
    "        \n",
    "## the test ingredients\n",
    "for ing in test_sf['ingredients']:\n",
    "    dish_ings = ing.keys()\n",
    "    for x in dish_ings:\n",
    "        ingredients.append(x)\n",
    "    "
   ]
  },
  {
   "cell_type": "code",
   "execution_count": 93,
   "metadata": {
    "collapsed": false
   },
   "outputs": [],
   "source": [
    "## put into a pandas series\n",
    "ingredients_sa = pd.Series(ingredients)"
   ]
  },
  {
   "cell_type": "code",
   "execution_count": 99,
   "metadata": {
    "collapsed": false
   },
   "outputs": [
    {
     "name": "stdout",
     "output_type": "stream",
     "text": [
      "there are 535644 values\n"
     ]
    },
    {
     "data": {
      "text/plain": [
       "salt                                          22533\n",
       "onions                                        10008\n",
       "olive oil                                      9888\n",
       "water                                          9293\n",
       "garlic                                         9171\n",
       "sugar                                          8064\n",
       "garlic cloves                                  7771\n",
       "butter                                         6077\n",
       "ground black pepper                            5989\n",
       "all-purpose flour                              5816\n",
       "vegetable oil                                  5516\n",
       "pepper                                         5508\n",
       "eggs                                           4262\n",
       "soy sauce                                      4120\n",
       "kosher salt                                    3930\n",
       "green onions                                   3817\n",
       "tomatoes                                       3812\n",
       "large eggs                                     3700\n",
       "carrots                                        3542\n",
       "unsalted butter                                3474\n",
       "ground cumin                                   3431\n",
       "extra-virgin olive oil                         3424\n",
       "black pepper                                   3291\n",
       "milk                                           2851\n",
       "chili powder                                   2519\n",
       "oil                                            2426\n",
       "red bell pepper                                2423\n",
       "purple onion                                   2372\n",
       "scallions                                      2372\n",
       "grated parmesan cheese                         2366\n",
       "                                              ...  \n",
       "korean vermicelli                                 1\n",
       "cassis liqueur                                    1\n",
       "diced candied citron                              1\n",
       "beef hot dogs                                     1\n",
       "asian black bean sauce                            1\n",
       "Crystal Farms Shredded Gouda Cheese               1\n",
       "Domaine de Canton Ginger Liqueur                  1\n",
       "rice mix                                          1\n",
       "Minute White Rice                                 1\n",
       "cross rib roast                                   1\n",
       "meat seasoning                                    1\n",
       "cod roe                                           1\n",
       "japanese noodles                                  1\n",
       "crushed ritz crackers                             1\n",
       "dried mango                                       1\n",
       "lecithin                                          1\n",
       "cooked cut green beans                            1\n",
       "liquid stevia                                     1\n",
       "red rice vinegar                                  1\n",
       "sugar cookie mix                                  1\n",
       "sparkling rosé wine                               1\n",
       "boneless moulard duck breast halves               1\n",
       "and carrot green pea                              1\n",
       "peach yogurt                                      1\n",
       "Mezzetta Sliced Greek Kalamata Olives             1\n",
       "McCormick Poppy Seed                              1\n",
       "mesquite flavored seasoning mix                   1\n",
       "raspberry sherbet                                 1\n",
       "King Arthur Gluten Free MultiPurpose Flour        1\n",
       "farfalline                                        1\n",
       "dtype: int64"
      ]
     },
     "execution_count": 99,
     "metadata": {},
     "output_type": "execute_result"
    }
   ],
   "source": [
    "print \"there are %s values\" % ingredients_sa.count()\n",
    "\n",
    "## print the counts\n",
    "ingredients_sa.value_counts()"
   ]
  },
  {
   "cell_type": "markdown",
   "metadata": {},
   "source": [
    "The tail includes values that are mixed case (not sure that it matters), but more importantly, bad data (e.g. and carrot green pea).  The truth of the matter is that we don't need to be concerned with counts of 1, as only one dish (training or test) include it.  \n",
    "\n",
    "However, are we losing information on an ingredient such as cooked cut green beans.  That's just one example, but represents the fact that we probably need to clean the ingredients.\n",
    "\n",
    "To do that, we need to find ingredients that might be mis-labeled due to a lack of data validation."
   ]
  },
  {
   "cell_type": "code",
   "execution_count": 106,
   "metadata": {
    "collapsed": false
   },
   "outputs": [],
   "source": [
    "## put the counts into a sortable dataframe\n",
    "## unique names with the counts\n",
    "x = ingredients_sa.value_counts()"
   ]
  },
  {
   "cell_type": "code",
   "execution_count": 123,
   "metadata": {
    "collapsed": false
   },
   "outputs": [],
   "source": [
    "## get the indexes\n",
    "x_index = x.index.values\n",
    "\n",
    "## get the values\n",
    "x_values = x.values\n",
    "\n",
    "## make the dataframe\n",
    "ing_df = pd.DataFrame({'ingredient':x_index, 'counts':x_values})\n",
    "\n",
    "## cleanup\n",
    "del(x)"
   ]
  },
  {
   "cell_type": "code",
   "execution_count": 124,
   "metadata": {
    "collapsed": false
   },
   "outputs": [
    {
     "data": {
      "text/plain": [
       "(7137, 2)"
      ]
     },
     "execution_count": 124,
     "metadata": {},
     "output_type": "execute_result"
    }
   ],
   "source": [
    "ing_df.shape"
   ]
  },
  {
   "cell_type": "code",
   "execution_count": 126,
   "metadata": {
    "collapsed": false
   },
   "outputs": [
    {
     "data": {
      "text/html": [
       "<div>\n",
       "<table border=\"1\" class=\"dataframe\">\n",
       "  <thead>\n",
       "    <tr style=\"text-align: right;\">\n",
       "      <th></th>\n",
       "      <th>counts</th>\n",
       "      <th>ingredient</th>\n",
       "    </tr>\n",
       "  </thead>\n",
       "  <tbody>\n",
       "    <tr>\n",
       "      <th>0</th>\n",
       "      <td>22533</td>\n",
       "      <td>salt</td>\n",
       "    </tr>\n",
       "    <tr>\n",
       "      <th>1</th>\n",
       "      <td>10008</td>\n",
       "      <td>onions</td>\n",
       "    </tr>\n",
       "    <tr>\n",
       "      <th>2</th>\n",
       "      <td>9888</td>\n",
       "      <td>olive oil</td>\n",
       "    </tr>\n",
       "    <tr>\n",
       "      <th>3</th>\n",
       "      <td>9293</td>\n",
       "      <td>water</td>\n",
       "    </tr>\n",
       "    <tr>\n",
       "      <th>4</th>\n",
       "      <td>9171</td>\n",
       "      <td>garlic</td>\n",
       "    </tr>\n",
       "  </tbody>\n",
       "</table>\n",
       "</div>"
      ],
      "text/plain": [
       "   counts ingredient\n",
       "0   22533       salt\n",
       "1   10008     onions\n",
       "2    9888  olive oil\n",
       "3    9293      water\n",
       "4    9171     garlic"
      ]
     },
     "execution_count": 126,
     "metadata": {},
     "output_type": "execute_result"
    }
   ],
   "source": [
    "ing_df.head()"
   ]
  },
  {
   "cell_type": "code",
   "execution_count": 127,
   "metadata": {
    "collapsed": false
   },
   "outputs": [
    {
     "data": {
      "text/html": [
       "<div>\n",
       "<table border=\"1\" class=\"dataframe\">\n",
       "  <thead>\n",
       "    <tr style=\"text-align: right;\">\n",
       "      <th></th>\n",
       "      <th>counts</th>\n",
       "      <th>ingredient</th>\n",
       "    </tr>\n",
       "  </thead>\n",
       "  <tbody>\n",
       "    <tr>\n",
       "      <th>7132</th>\n",
       "      <td>1</td>\n",
       "      <td>McCormick Poppy Seed</td>\n",
       "    </tr>\n",
       "    <tr>\n",
       "      <th>7133</th>\n",
       "      <td>1</td>\n",
       "      <td>mesquite flavored seasoning mix</td>\n",
       "    </tr>\n",
       "    <tr>\n",
       "      <th>7134</th>\n",
       "      <td>1</td>\n",
       "      <td>raspberry sherbet</td>\n",
       "    </tr>\n",
       "    <tr>\n",
       "      <th>7135</th>\n",
       "      <td>1</td>\n",
       "      <td>King Arthur Gluten Free MultiPurpose Flour</td>\n",
       "    </tr>\n",
       "    <tr>\n",
       "      <th>7136</th>\n",
       "      <td>1</td>\n",
       "      <td>farfalline</td>\n",
       "    </tr>\n",
       "  </tbody>\n",
       "</table>\n",
       "</div>"
      ],
      "text/plain": [
       "      counts                                  ingredient\n",
       "7132       1                        McCormick Poppy Seed\n",
       "7133       1             mesquite flavored seasoning mix\n",
       "7134       1                           raspberry sherbet\n",
       "7135       1  King Arthur Gluten Free MultiPurpose Flour\n",
       "7136       1                                  farfalline"
      ]
     },
     "execution_count": 127,
     "metadata": {},
     "output_type": "execute_result"
    }
   ],
   "source": [
    "ing_df.tail()"
   ]
  },
  {
   "cell_type": "code",
   "execution_count": null,
   "metadata": {
    "collapsed": false
   },
   "outputs": [],
   "source": [
    "## keep only the top \"N\" ingredients\n"
   ]
  },
  {
   "cell_type": "code",
   "execution_count": null,
   "metadata": {
    "collapsed": false
   },
   "outputs": [],
   "source": [
    "## calc ingredient similarity by names"
   ]
  },
  {
   "cell_type": "code",
   "execution_count": null,
   "metadata": {
    "collapsed": true
   },
   "outputs": [],
   "source": [
    "## are their outliers where they are too close?"
   ]
  },
  {
   "cell_type": "code",
   "execution_count": null,
   "metadata": {
    "collapsed": false
   },
   "outputs": [],
   "source": [
    "## remove ingredient text that represent amounts, brands, other things, etc.  \n",
    "## try to standardize the ingredients like those that are most similar"
   ]
  },
  {
   "cell_type": "code",
   "execution_count": null,
   "metadata": {
    "collapsed": true
   },
   "outputs": [],
   "source": [
    "## question:  how to clean the clean the old values (keys) with the new values (keys) inline?"
   ]
  },
  {
   "cell_type": "code",
   "execution_count": null,
   "metadata": {
    "collapsed": true
   },
   "outputs": [],
   "source": []
  }
 ],
 "metadata": {
  "kernelspec": {
   "display_name": "Python 2",
   "language": "python",
   "name": "python2"
  },
  "language_info": {
   "codemirror_mode": {
    "name": "ipython",
    "version": 2
   },
   "file_extension": ".py",
   "mimetype": "text/x-python",
   "name": "python",
   "nbconvert_exporter": "python",
   "pygments_lexer": "ipython2",
   "version": "2.7.10"
  }
 },
 "nbformat": 4,
 "nbformat_minor": 0
}
